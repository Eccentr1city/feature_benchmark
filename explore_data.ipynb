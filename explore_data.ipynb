{
 "cells": [
  {
   "cell_type": "code",
   "execution_count": 1,
   "metadata": {},
   "outputs": [],
   "source": [
    "from getting_examples import get_activation_data_for_feature\n",
    "url = \"https://www.neuronpedia.org/api/feature/gpt2-small/9-res-jb/0\"\n",
    "data = get_activation_data_for_feature(url)"
   ]
  },
  {
   "cell_type": "code",
   "execution_count": 2,
   "metadata": {},
   "outputs": [
    {
     "data": {
      "text/plain": [
       "[{'id': 'clsxrpkch00czenuxyakb3fy9',\n",
       "  'description': 'phrases related to Q&A sessions or dialogues involving opinions and discussions',\n",
       "  'authorId': 'clsxqq2xd0000vvp2k5itlhqj',\n",
       "  'triggeredByUserId': None,\n",
       "  'notes': None,\n",
       "  'createdAt': '2024-02-22T22:01:17.634Z',\n",
       "  'updatedAt': '2024-02-22T22:01:17.634Z',\n",
       "  'index': '0',\n",
       "  'layer': '9-res-jb',\n",
       "  'modelId': 'gpt2-small',\n",
       "  'autoInterpModel': None,\n",
       "  'scoreV1': 0,\n",
       "  'scoreV2': None,\n",
       "  'umap_x': 5.2724376,\n",
       "  'umap_y': 3.1308131,\n",
       "  'umap_cluster': 0,\n",
       "  'umap_log_feature_sparsity': -2.4275835,\n",
       "  'author': {'name': 'gpt-3.5-turbo', 'country': 'US'},\n",
       "  'votes': []}]"
      ]
     },
     "execution_count": 2,
     "metadata": {},
     "output_type": "execute_result"
    }
   ],
   "source": [
    "data['explanations']"
   ]
  },
  {
   "cell_type": "code",
   "execution_count": 3,
   "metadata": {},
   "outputs": [
    {
     "name": "stdout",
     "output_type": "stream",
     "text": [
      "24.82564735412598\n",
      "8\n",
      "['Ĵ', 's', ' community', '.', 'Ċ', 'Ċ', 'The', ' thoughts', ' and', ' opinions', ' expressed', ' are', ' those', ' of', ' the', ' writer', ' and']\n",
      "[0, 0, 0, 0, 0, 0, 0, 0, 24.82564735412598, 0, 0, 0.6454516649246216, 0, 0, 0, 0, 0]\n"
     ]
    }
   ],
   "source": [
    "example_num = 0 #This is the example number\n",
    "\n",
    "print(data['examples'][example_num]['maxValue'])\n",
    "print(data['examples'][example_num]['maxValueTokenIndex'])\n",
    "print(data['examples'][example_num]['tokens'])\n",
    "print(data['examples'][example_num]['values'])"
   ]
  },
  {
   "cell_type": "code",
   "execution_count": null,
   "metadata": {},
   "outputs": [],
   "source": []
  }
 ],
 "metadata": {
  "kernelspec": {
   "display_name": "local_env",
   "language": "python",
   "name": "python3"
  },
  "language_info": {
   "codemirror_mode": {
    "name": "ipython",
    "version": 3
   },
   "file_extension": ".py",
   "mimetype": "text/x-python",
   "name": "python",
   "nbconvert_exporter": "python",
   "pygments_lexer": "ipython3",
   "version": "3.12.3"
  }
 },
 "nbformat": 4,
 "nbformat_minor": 2
}
